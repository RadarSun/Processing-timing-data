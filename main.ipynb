{
 "metadata": {
  "language_info": {
   "codemirror_mode": {
    "name": "ipython",
    "version": 3
   },
   "file_extension": ".py",
   "mimetype": "text/x-python",
   "name": "python",
   "nbconvert_exporter": "python",
   "pygments_lexer": "ipython3",
   "version": "3.8.5"
  },
  "orig_nbformat": 2,
  "kernelspec": {
   "name": "python3",
   "display_name": "Python 3",
   "language": "python"
  }
 },
 "nbformat": 4,
 "nbformat_minor": 2,
 "cells": [
  {
   "cell_type": "code",
   "execution_count": 60,
   "metadata": {},
   "outputs": [],
   "source": [
    "import numpy as np \n"
   ]
  },
  {
   "cell_type": "code",
   "execution_count": 61,
   "metadata": {},
   "outputs": [],
   "source": [
    "pattern = np.load('data/pattern.npy')\n",
    "node_num = np.load('data/node_num.npy')\n",
    "link_num = np.load('data/link_num.npy')\n",
    "pressure = np.load('data/pressure.npy')\n",
    "flow = np.load('data/flow.npy')"
   ]
  },
  {
   "cell_type": "code",
   "execution_count": 62,
   "metadata": {},
   "outputs": [
    {
     "output_type": "stream",
     "name": "stdout",
     "text": [
      "[[4.824115   1.32191011 4.41476974 ... 3.35491382 2.96865897 4.00999223]\n [4.66643724 3.1101346  0.20475493 ... 2.71819088 4.71450213 3.2337881 ]\n [3.1259722  4.14071378 2.64921332 ... 2.74249623 4.45950743 3.78760727]\n ...\n [0.48652389 1.79028981 1.87811366 ... 1.78536609 0.34801814 0.80283645]\n [0.38253275 0.8659268  1.14623531 ... 3.40407136 3.65401033 1.37798745]\n [2.75732496 0.38738804 1.1083414  ... 2.86274237 2.68779958 4.62177384]]\n<class 'numpy.ndarray'>\n(30000, 24)\n[4.824115   1.32191011 4.41476974 1.65745072 2.1112283  3.00090793\n 1.21908491 4.73199919 0.98845602 4.87696905 1.46960271 4.82837605\n 1.80823612 3.88906738 3.28789198 0.1372677  3.12488346 2.74301768\n 3.36282582 0.24439316 2.21138705 3.35491382 2.96865897 4.00999223]\n(24,)\n"
     ]
    }
   ],
   "source": [
    "print(pattern)\n",
    "print(type(pattern))\n",
    "print(pattern.shape)\n",
    "print(pattern[0])\n",
    "print(pattern[0].shape)"
   ]
  },
  {
   "cell_type": "code",
   "execution_count": 63,
   "metadata": {},
   "outputs": [
    {
     "output_type": "stream",
     "name": "stdout",
     "text": [
      "[ 10 101 103 105 107 109 111 113 115 117 119 120 121 123 125 127 129 131\n 139 141 143 145 147 149  15 151 153 157 159 161 163 164 166 167 169 171\n 173 177 179 181 183 184 185 187 189 191 193 195 197 199  20 201 203 204\n 205 206 207 208 209 211 213 215 217 219 225 229 231 237 239 241 243 247\n 249 251 253 255 257 259 261 263 265 267 269 271 273 275  35  40  50  60\n 601  61]\n<class 'numpy.ndarray'>\n(92,)\n"
     ]
    }
   ],
   "source": [
    "print(node_num)\n",
    "print(type(node_num))\n",
    "print(node_num.shape)"
   ]
  },
  {
   "cell_type": "code",
   "execution_count": 64,
   "metadata": {},
   "outputs": [
    {
     "output_type": "stream",
     "name": "stdout",
     "text": [
      "[ 20  40  50  60 101 103 105 107 109 111 112 113 114 115 116 117 119 120\n 121 122 123 125 129 131 133 135 137 145 147 149 151 153 155 159 161 163\n 169 171 173 175 177 179 180 181 183 185 186 187 189 191 193 195 197 199\n 201 202 203 204 205 207 209 211 213 215 217 219 221 223 225 229 231 233\n 235 237 238 239 240 241 243 245 247 249 251 257 261 263 269 271 273 275\n 277 281 283 285 287 289 291 293 295 297 299 301 303 305 307 309 311 313\n 315 317 319 321 323 325 329 330 333]\n<class 'numpy.ndarray'>\n(117,)\n"
     ]
    }
   ],
   "source": [
    "print(link_num)\n",
    "print(type(link_num))\n",
    "print(link_num.shape)"
   ]
  },
  {
   "cell_type": "code",
   "execution_count": 65,
   "metadata": {},
   "outputs": [
    {
     "output_type": "stream",
     "name": "stdout",
     "text": [
      "[[[-22.62  40.68  37.14 ...  -6.5  -14.18 -22.29]\n  [ 22.88  58.35  46.88 ...  39.    31.32  23.21]\n  [ 22.44  56.84  44.97 ...  38.56  30.88  22.77]\n  ...\n  [ 90.4   90.62  90.5  ...  90.63  90.57  90.46]\n  [129.99 131.44 130.61 ... 131.47 131.07 130.37]\n  [129.99 131.44 130.61 ... 131.47 131.07 130.37]]\n\n [[-21.07  38.45  42.51 ... -19.89  -8.77 -20.78]\n  [ 24.43  51.13  64.23 ...  25.6   36.73  24.72]\n  [ 23.99  49.38  62.88 ...  25.16  36.29  24.28]\n  ...\n  [ 90.42  90.51  90.75 ...  90.53  90.59  90.47]\n  [130.08 130.67 132.32 ... 130.82 131.25 130.46]\n  [130.08 130.67 132.32 ... 130.82 131.25 130.46]]\n\n [[ -8.93  37.43  39.03 ... -18.44 -13.56  -9.55]\n  [ 36.57  47.8   52.99 ...  27.06  31.93  35.95]\n  [ 36.13  45.92  51.29 ...  26.62  31.49  35.51]\n  ...\n  [ 90.5   90.5   90.54 ...  90.51  90.53  90.53]\n  [130.61 130.61 130.9  ... 130.68 130.79 130.83]\n  [130.61 130.61 130.9  ... 130.68 130.79 130.83]]\n\n ...\n\n [[  2.6   40.44  40.44 ...   3.88   2.45   4.29]\n  [ 48.09  57.55  57.55 ...  49.38  47.95  49.79]\n  [ 47.63  56.01  56.01 ...  48.91  47.49  49.32]\n  ...\n  [ 90.62  90.65  90.67 ...  90.7   90.69  90.73]\n  [131.44 131.66 131.77 ... 131.93 131.89 132.16]\n  [131.44 131.66 131.77 ... 131.93 131.89 132.16]]\n\n [[  3.07  41.74  41.5  ... -11.36  -0.79   3.63]\n  [ 48.57  61.77  60.98 ...  34.14  44.7   49.13]\n  [ 48.1   60.35  59.54 ...  33.7   44.25  48.66]\n  ...\n  [ 90.63  90.74  90.75 ...  90.57  90.61  90.69]\n  [131.5  132.24 132.29 ... 131.12 131.38 131.87]\n  [131.5  132.24 132.29 ... 131.12 131.38 131.87]]\n\n [[ -6.74  42.33  41.38 ...  -4.92 -19.44  -6.45]\n  [ 38.75  63.65  60.61 ...  40.58  26.05  39.05]\n  [ 38.31  62.28  59.16 ...  40.14  25.61  38.6 ]\n  ...\n  [ 90.51  90.76  90.72 ...  90.64  90.52  90.59]\n  [130.66 132.34 132.11 ... 131.54 130.78 131.25]\n  [130.66 132.34 132.11 ... 131.54 130.78 131.25]]]\n(30000, 92, 25)\n"
     ]
    }
   ],
   "source": [
    "print(pressure)\n",
    "# print(type(pressure))\n",
    "print(pressure.shape)\n",
    "# print(pressure[29999][91])\n",
    "# print(pressure[0].shape)\n"
   ]
  },
  {
   "cell_type": "code",
   "execution_count": 66,
   "metadata": {},
   "outputs": [
    {
     "output_type": "stream",
     "name": "stdout",
     "text": [
      "[[[ 3696.84 -3771.43   641.71 ...   964.94  2863.4   4434.55]\n  [ 2479.57 -1525.3   1265.81 ...  1081.42  1732.48  2230.27]\n  [ 1830.11  -246.64  1295.6  ...   440.75   981.65  1426.74]\n  ...\n  [13395.25 13071.15 13257.2  ... 13063.93 13155.04 13310.21]\n  [    0.       0.       0.   ...     0.       0.       0.  ]\n  [   -0.      -0.      -0.   ...    -0.      -0.      -0.  ]]\n\n [[ 3407.87 -1380.49 -5327.77 ...  3956.46  1514.48  4151.01]\n  [ 2375.34    13.7  -2234.1  ...  2306.78  1167.36  2129.29]\n  [ 1764.31   788.3   -924.85 ...  1400.16   570.91  1349.88]\n  ...\n  [13373.63 13244.17 12875.79 ... 13209.17 13113.85 13290.97]\n  [    0.       0.       0.   ...     0.       0.       0.  ]\n  [   -0.      -0.      -0.   ...    -0.      -0.      -0.  ]]\n\n [[  418.1    142.65 -1722.65 ...  3529.92  2464.7   1600.97]\n  [ 1413.91  1026.88  -615.98 ...  2019.44  1438.33   787.65]\n  [ 1137.02  1244.19   478.81 ...  1305.29   935.82   630.02]\n  ...\n  [13256.62 13256.09 13191.53 ... 13240.66 13215.87 13207.  ]\n  [    0.       0.       0.   ...     0.       0.       0.  ]\n  [   -0.      -0.      -0.   ...    -0.      -0.      -0.  ]]\n\n ...\n\n [[-3369.22 -3316.24 -3126.97 ... -3045.97 -2370.57 -2743.29]\n  [-1224.56 -1084.13  -926.37 ... -1489.52 -1051.67 -1273.47]\n  [ -297.45   296.75   234.8  ...  -862.67  -593.25  -713.37]\n  ...\n  [13071.54 13023.39 12998.5  ... 12961.2  12972.29 12910.45]\n  [    0.       0.       0.   ...     0.       0.       0.  ]\n  [   -0.      -0.      -0.   ...    -0.      -0.      -0.  ]]\n\n [[-3523.85 -4577.69 -4163.69 ...  1952.22 -1424.57 -2821.46]\n  [-1308.4  -1686.44 -1432.29 ...  1668.98  -518.25 -1414.54]\n  [ -362.01  -334.71  -179.93 ...   875.56  -431.44  -875.52]\n  ...\n  [13057.61 12893.66 12881.02 ... 13143.31 13084.19 12974.87]\n  [    0.       0.       0.   ...     0.       0.       0.  ]\n  [   -0.      -0.      -0.   ...    -0.      -0.      -0.  ]]\n\n [[ -310.63 -5132.9  -4092.41 ...   529.61  3911.97  1105.78]\n  [ 1181.07 -2108.12 -1570.48 ...   738.92  2107.49   539.09]\n  [  986.42  -703.68  -288.04 ...   377.37  1360.07   343.66]\n  ...\n  [13245.11 12869.83 12923.12 ... 13049.05 13217.81 13113.44]\n  [    0.       0.       0.   ...     0.       0.       0.  ]\n  [   -0.      -0.      -0.   ...    -0.      -0.      -0.  ]]]\n<class 'numpy.ndarray'>\n(30000, 117, 25)\n[-0. -0. -0. -0. -0. -0. -0. -0. -0. -0. -0. -0. -0. -0. -0. -0. -0. -0.\n -0. -0. -0. -0. -0. -0. -0.]\n(117, 25)\n"
     ]
    }
   ],
   "source": [
    "print(flow)\n",
    "print(type(flow))\n",
    "print(flow.shape)\n",
    "print(flow[1][116])\n",
    "print(flow[0].shape)"
   ]
  },
  {
   "cell_type": "code",
   "execution_count": 67,
   "metadata": {
    "tags": []
   },
   "outputs": [],
   "source": [
    "import random\n",
    "num_samples = 30000\n",
    "num_train = int(0.6 * num_samples)\n",
    "num_validation = int(0.2 * num_samples)\n",
    "num_test = int(0.2 * num_samples)\n",
    "\n",
    "randid = random.sample(range(0, num_samples), num_samples)\n",
    "train_id = randid[0:num_train]\n",
    "validation_id = randid[num_train:num_validation+num_train]\n",
    "test_id = randid[num_validation+num_train:num_samples]\n",
    "# print(randid)\n",
    "# print(train_id)\n",
    "# print(validation_id)\n",
    "# print(test_id)\n"
   ]
  },
  {
   "cell_type": "code",
   "execution_count": 68,
   "metadata": {},
   "outputs": [
    {
     "output_type": "stream",
     "name": "stdout",
     "text": [
      "[  1.22  42.34  42.11  38.48  38.56  37.85  37.97  38.02  38.73  38.65\n  40.21  38.59  37.31  39.07  39.51   1.1   -0.36  -7.9   -4.23 -16.49\n  -1.75  -3.02  -5.41  -4.22   1.43]\n"
     ]
    }
   ],
   "source": [
    "train_pressure = pressure[train_id]\n",
    "train_flow = flow[train_id]\n",
    "train_pattern = pattern[train_id]\n",
    "\n",
    "validation_pressure = pressure[validation_id]\n",
    "validation_flow = flow[validation_id]\n",
    "validation_pattern = pattern[validation_id]\n",
    "\n",
    "test_pressure = pressure[test_id]\n",
    "test_flow = flow[test_id]\n",
    "test_pattern = pattern[test_id]\n",
    "print(train_pressure[18000-1,0])"
   ]
  },
  {
   "cell_type": "code",
   "execution_count": null,
   "metadata": {},
   "outputs": [],
   "source": []
  },
  {
   "cell_type": "code",
   "execution_count": 78,
   "metadata": {
    "tags": []
   },
   "outputs": [
    {
     "output_type": "stream",
     "name": "stdout",
     "text": [
      "(18000, 92, 25)\n",
      "(18000, 117, 25)\n",
      "0\n",
      "1\n",
      "2\n",
      "3\n",
      "4\n",
      "5\n",
      "6\n",
      "7\n",
      "8\n",
      "9\n",
      "10\n",
      "11\n",
      "12\n",
      "13\n",
      "14\n",
      "15\n",
      "16\n",
      "17\n",
      "18\n",
      "19\n",
      "20\n",
      "21\n",
      "22\n",
      "23\n",
      "24\n",
      "25\n",
      "26\n",
      "27\n",
      "28\n",
      "29\n",
      "30\n",
      "31\n",
      "32\n",
      "33\n",
      "34\n",
      "35\n",
      "36\n",
      "37\n",
      "38\n",
      "39\n",
      "40\n",
      "41\n",
      "42\n",
      "43\n",
      "44\n",
      "45\n",
      "46\n",
      "47\n",
      "48\n",
      "49\n",
      "50\n",
      "51\n",
      "52\n",
      "53\n",
      "54\n",
      "55\n",
      "56\n",
      "57\n",
      "58\n",
      "59\n",
      "60\n",
      "61\n",
      "62\n",
      "63\n",
      "64\n",
      "65\n",
      "66\n",
      "67\n",
      "68\n",
      "69\n",
      "70\n",
      "71\n",
      "72\n",
      "73\n",
      "74\n",
      "75\n",
      "76\n",
      "77\n",
      "78\n",
      "79\n",
      "80\n",
      "81\n",
      "82\n",
      "83\n",
      "84\n",
      "85\n",
      "86\n",
      "87\n",
      "88\n",
      "89\n",
      "90\n",
      "91\n",
      "92\n",
      "93\n",
      "94\n",
      "95\n",
      "96\n",
      "97\n",
      "98\n",
      "99\n",
      "100\n",
      "101\n",
      "102\n",
      "103\n",
      "104\n",
      "105\n",
      "106\n",
      "107\n"
     ]
    },
    {
     "output_type": "error",
     "ename": "KeyboardInterrupt",
     "evalue": "",
     "traceback": [
      "\u001b[0;31m---------------------------------------------------------------------------\u001b[0m",
      "\u001b[0;31mKeyboardInterrupt\u001b[0m                         Traceback (most recent call last)",
      "\u001b[0;32m<ipython-input-78-bb135b0031b4>\u001b[0m in \u001b[0;36m<module>\u001b[0;34m\u001b[0m\n\u001b[1;32m     19\u001b[0m     \u001b[0;31m#     print(i,j)\u001b[0m\u001b[0;34m\u001b[0m\u001b[0;34m\u001b[0m\u001b[0;34m\u001b[0m\u001b[0m\n\u001b[1;32m     20\u001b[0m \u001b[0;34m\u001b[0m\u001b[0m\n\u001b[0;32m---> 21\u001b[0;31m         \u001b[0mtrain_data\u001b[0m\u001b[0;34m[\u001b[0m\u001b[0mi\u001b[0m\u001b[0;34m]\u001b[0m\u001b[0;34m[\u001b[0m\u001b[0mj\u001b[0m\u001b[0;34m]\u001b[0m \u001b[0;34m=\u001b[0m \u001b[0mpreprocessing\u001b[0m\u001b[0;34m.\u001b[0m\u001b[0mscale\u001b[0m\u001b[0;34m(\u001b[0m\u001b[0mtrain_data\u001b[0m\u001b[0;34m[\u001b[0m\u001b[0mi\u001b[0m\u001b[0;34m]\u001b[0m\u001b[0;34m[\u001b[0m\u001b[0mj\u001b[0m\u001b[0;34m]\u001b[0m\u001b[0;34m)\u001b[0m\u001b[0;34m\u001b[0m\u001b[0;34m\u001b[0m\u001b[0m\n\u001b[0m\u001b[1;32m     22\u001b[0m     \u001b[0;31m# train_data[i][0:92] = preprocessing.scale(train_data[i][0:92])\u001b[0m\u001b[0;34m\u001b[0m\u001b[0;34m\u001b[0m\u001b[0;34m\u001b[0m\u001b[0m\n\u001b[1;32m     23\u001b[0m     \u001b[0;31m# train_data[i][92:92+117] = preprocessing.scale(train_data[i][92:92+117])\u001b[0m\u001b[0;34m\u001b[0m\u001b[0;34m\u001b[0m\u001b[0;34m\u001b[0m\u001b[0m\n",
      "\u001b[0;32m~/anaconda3/lib/python3.8/site-packages/sklearn/utils/validation.py\u001b[0m in \u001b[0;36minner_f\u001b[0;34m(*args, **kwargs)\u001b[0m\n\u001b[1;32m     70\u001b[0m                           FutureWarning)\n\u001b[1;32m     71\u001b[0m         \u001b[0mkwargs\u001b[0m\u001b[0;34m.\u001b[0m\u001b[0mupdate\u001b[0m\u001b[0;34m(\u001b[0m\u001b[0;34m{\u001b[0m\u001b[0mk\u001b[0m\u001b[0;34m:\u001b[0m \u001b[0marg\u001b[0m \u001b[0;32mfor\u001b[0m \u001b[0mk\u001b[0m\u001b[0;34m,\u001b[0m \u001b[0marg\u001b[0m \u001b[0;32min\u001b[0m \u001b[0mzip\u001b[0m\u001b[0;34m(\u001b[0m\u001b[0msig\u001b[0m\u001b[0;34m.\u001b[0m\u001b[0mparameters\u001b[0m\u001b[0;34m,\u001b[0m \u001b[0margs\u001b[0m\u001b[0;34m)\u001b[0m\u001b[0;34m}\u001b[0m\u001b[0;34m)\u001b[0m\u001b[0;34m\u001b[0m\u001b[0;34m\u001b[0m\u001b[0m\n\u001b[0;32m---> 72\u001b[0;31m         \u001b[0;32mreturn\u001b[0m \u001b[0mf\u001b[0m\u001b[0;34m(\u001b[0m\u001b[0;34m**\u001b[0m\u001b[0mkwargs\u001b[0m\u001b[0;34m)\u001b[0m\u001b[0;34m\u001b[0m\u001b[0;34m\u001b[0m\u001b[0m\n\u001b[0m\u001b[1;32m     73\u001b[0m     \u001b[0;32mreturn\u001b[0m \u001b[0minner_f\u001b[0m\u001b[0;34m\u001b[0m\u001b[0;34m\u001b[0m\u001b[0m\n\u001b[1;32m     74\u001b[0m \u001b[0;34m\u001b[0m\u001b[0m\n",
      "\u001b[0;32m~/anaconda3/lib/python3.8/site-packages/sklearn/preprocessing/_data.py\u001b[0m in \u001b[0;36mscale\u001b[0;34m(X, axis, with_mean, with_std, copy)\u001b[0m\n\u001b[1;32m    159\u001b[0m             \u001b[0mmean_\u001b[0m \u001b[0;34m=\u001b[0m \u001b[0mnp\u001b[0m\u001b[0;34m.\u001b[0m\u001b[0mnanmean\u001b[0m\u001b[0;34m(\u001b[0m\u001b[0mX\u001b[0m\u001b[0;34m,\u001b[0m \u001b[0maxis\u001b[0m\u001b[0;34m)\u001b[0m\u001b[0;34m\u001b[0m\u001b[0;34m\u001b[0m\u001b[0m\n\u001b[1;32m    160\u001b[0m         \u001b[0;32mif\u001b[0m \u001b[0mwith_std\u001b[0m\u001b[0;34m:\u001b[0m\u001b[0;34m\u001b[0m\u001b[0;34m\u001b[0m\u001b[0m\n\u001b[0;32m--> 161\u001b[0;31m             \u001b[0mscale_\u001b[0m \u001b[0;34m=\u001b[0m \u001b[0mnp\u001b[0m\u001b[0;34m.\u001b[0m\u001b[0mnanstd\u001b[0m\u001b[0;34m(\u001b[0m\u001b[0mX\u001b[0m\u001b[0;34m,\u001b[0m \u001b[0maxis\u001b[0m\u001b[0;34m)\u001b[0m\u001b[0;34m\u001b[0m\u001b[0;34m\u001b[0m\u001b[0m\n\u001b[0m\u001b[1;32m    162\u001b[0m         \u001b[0;31m# Xr is a view on the original array that enables easy use of\u001b[0m\u001b[0;34m\u001b[0m\u001b[0;34m\u001b[0m\u001b[0;34m\u001b[0m\u001b[0m\n\u001b[1;32m    163\u001b[0m         \u001b[0;31m# broadcasting on the axis in which we are interested in\u001b[0m\u001b[0;34m\u001b[0m\u001b[0;34m\u001b[0m\u001b[0;34m\u001b[0m\u001b[0m\n",
      "\u001b[0;32m<__array_function__ internals>\u001b[0m in \u001b[0;36mnanstd\u001b[0;34m(*args, **kwargs)\u001b[0m\n",
      "\u001b[0;32m~/anaconda3/lib/python3.8/site-packages/numpy/lib/nanfunctions.py\u001b[0m in \u001b[0;36mnanstd\u001b[0;34m(a, axis, dtype, out, ddof, keepdims)\u001b[0m\n\u001b[1;32m   1662\u001b[0m \u001b[0;34m\u001b[0m\u001b[0m\n\u001b[1;32m   1663\u001b[0m     \"\"\"\n\u001b[0;32m-> 1664\u001b[0;31m     var = nanvar(a, axis=axis, dtype=dtype, out=out, ddof=ddof,\n\u001b[0m\u001b[1;32m   1665\u001b[0m                  keepdims=keepdims)\n\u001b[1;32m   1666\u001b[0m     \u001b[0;32mif\u001b[0m \u001b[0misinstance\u001b[0m\u001b[0;34m(\u001b[0m\u001b[0mvar\u001b[0m\u001b[0;34m,\u001b[0m \u001b[0mnp\u001b[0m\u001b[0;34m.\u001b[0m\u001b[0mndarray\u001b[0m\u001b[0;34m)\u001b[0m\u001b[0;34m:\u001b[0m\u001b[0;34m\u001b[0m\u001b[0;34m\u001b[0m\u001b[0m\n",
      "\u001b[0;32m<__array_function__ internals>\u001b[0m in \u001b[0;36mnanvar\u001b[0;34m(*args, **kwargs)\u001b[0m\n",
      "\u001b[0;32m~/anaconda3/lib/python3.8/site-packages/numpy/lib/nanfunctions.py\u001b[0m in \u001b[0;36mnanvar\u001b[0;34m(a, axis, dtype, out, ddof, keepdims)\u001b[0m\n\u001b[1;32m   1542\u001b[0m         \u001b[0msqr\u001b[0m \u001b[0;34m=\u001b[0m \u001b[0mnp\u001b[0m\u001b[0;34m.\u001b[0m\u001b[0mmultiply\u001b[0m\u001b[0;34m(\u001b[0m\u001b[0marr\u001b[0m\u001b[0;34m,\u001b[0m \u001b[0marr\u001b[0m\u001b[0;34m.\u001b[0m\u001b[0mconj\u001b[0m\u001b[0;34m(\u001b[0m\u001b[0;34m)\u001b[0m\u001b[0;34m,\u001b[0m \u001b[0mout\u001b[0m\u001b[0;34m=\u001b[0m\u001b[0marr\u001b[0m\u001b[0;34m)\u001b[0m\u001b[0;34m.\u001b[0m\u001b[0mreal\u001b[0m\u001b[0;34m\u001b[0m\u001b[0;34m\u001b[0m\u001b[0m\n\u001b[1;32m   1543\u001b[0m     \u001b[0;32melse\u001b[0m\u001b[0;34m:\u001b[0m\u001b[0;34m\u001b[0m\u001b[0;34m\u001b[0m\u001b[0m\n\u001b[0;32m-> 1544\u001b[0;31m         \u001b[0msqr\u001b[0m \u001b[0;34m=\u001b[0m \u001b[0mnp\u001b[0m\u001b[0;34m.\u001b[0m\u001b[0mmultiply\u001b[0m\u001b[0;34m(\u001b[0m\u001b[0marr\u001b[0m\u001b[0;34m,\u001b[0m \u001b[0marr\u001b[0m\u001b[0;34m,\u001b[0m \u001b[0mout\u001b[0m\u001b[0;34m=\u001b[0m\u001b[0marr\u001b[0m\u001b[0;34m)\u001b[0m\u001b[0;34m\u001b[0m\u001b[0;34m\u001b[0m\u001b[0m\n\u001b[0m\u001b[1;32m   1545\u001b[0m \u001b[0;34m\u001b[0m\u001b[0m\n\u001b[1;32m   1546\u001b[0m     \u001b[0;31m# Compute variance.\u001b[0m\u001b[0;34m\u001b[0m\u001b[0;34m\u001b[0m\u001b[0;34m\u001b[0m\u001b[0m\n",
      "\u001b[0;31mKeyboardInterrupt\u001b[0m: "
     ]
    }
   ],
   "source": [
    "import torch\n",
    "import torch.nn as nn\n",
    "from sklearn import preprocessing\n",
    "\n",
    "n_feature = 92+117\n",
    "\n",
    "train_data = np.zeros((18000,n_feature,24))\n",
    "# tmp = np.zeros((18000,n_feature,24))\n",
    "print(train_pressure.shape)\n",
    "print(train_flow.shape)\n",
    "\n",
    "train_data[:,0:92,0:24] = train_pressure[:,:,1:25]\n",
    "train_data[:,92:n_feature,0:24] = train_flow[:,:,1:25]\n",
    "\n",
    "\n",
    "for i in range(num_train):\n",
    "    print(i)\n",
    "    for j in range(n_feature):\n",
    "    #     print(i,j)\n",
    "        \n",
    "        train_data[i][j] = preprocessing.scale(train_data[i][j])\n",
    "    # train_data[i][0:92] = preprocessing.scale(train_data[i][0:92])\n",
    "    # train_data[i][92:92+117] = preprocessing.scale(train_data[i][92:92+117])\n",
    "\n",
    "\n",
    "train_value = train_pattern[:,23]\n",
    "\n",
    "train_data = np.array(train_data)\n",
    "train_data = torch.tensor(train_data)\n",
    "train_data = train_data.to(torch.float32)\n",
    "print(train_data.shape)\n",
    "\n",
    "\n",
    "        \n",
    "\n",
    "print(train_data.shape)\n",
    "train_value = np.array(train_value).flatten()\n",
    "train_value = torch.tensor(train_value)\n",
    "print(train_value.shape)\n",
    "print(train_data[1:100])"
   ]
  },
  {
   "cell_type": "code",
   "execution_count": 75,
   "metadata": {},
   "outputs": [
    {
     "output_type": "stream",
     "name": "stdout",
     "text": [
      "CNN(\n  (conv1): Sequential(\n    (0): Conv2d(1, 16, kernel_size=(1, 3), stride=(1, 1), padding=(0, 1))\n    (1): ReLU()\n    (2): MaxPool2d(kernel_size=(1, 3), stride=(1, 2), padding=(0, 1), dilation=1, ceil_mode=False)\n  )\n  (conv2): Sequential(\n    (0): Conv2d(16, 32, kernel_size=(1, 3), stride=(1, 1), padding=(0, 1))\n    (1): ReLU()\n    (2): MaxPool2d(kernel_size=(1, 3), stride=(1, 2), padding=(0, 1), dilation=1, ceil_mode=False)\n  )\n  (conv3): Sequential(\n    (0): Conv2d(32, 64, kernel_size=(1, 3), stride=(1, 1), padding=(0, 1))\n    (1): ReLU()\n    (2): MaxPool2d(kernel_size=(1, 4), stride=(1, 2), padding=(0, 0), dilation=1, ceil_mode=False)\n  )\n  (out): Linear(in_features=26752, out_features=1, bias=True)\n)\n"
     ]
    }
   ],
   "source": [
    "\n",
    "\n",
    "class CNN(nn.Module):\n",
    "    def __init__(self):\n",
    "        super(CNN, self).__init__()\n",
    "        self.conv1 = nn.Sequential(  # input shape (1, 209, 23)\n",
    "            nn.Conv2d(\n",
    "                in_channels=1,      # input height\n",
    "                out_channels=16,    # n_filters\n",
    "                kernel_size=(1,3),      # filter size\n",
    "                stride=1,           # filter movement/step\n",
    "                padding=(0,1),      # 如果想要 con2d 出来的图片长宽没有变化, padding=(kernel_size-1)/2 当 stride=1\n",
    "            ),      # output shape (16, 209, 23)\n",
    "            nn.ReLU(),    # activation\n",
    "            nn.MaxPool2d((1,3),(1,2), (0,1)),    # 在 2x2 空间里向下采样, output shape (16, 104, 11)\n",
    "        )\n",
    "        self.conv2 = nn.Sequential(  # input shape (16, 104, 11)\n",
    "            nn.Conv2d(16, 32, (1,3), 1, (0,1)),  # output shape (32, 104, 11)\n",
    "            nn.ReLU(),  # activation\n",
    "            nn.MaxPool2d((1,3),(1,2), (0,1)),    # 在 2x2 空间里向下采样, output shape (16, 104, 11)\n",
    "        )\n",
    "        self.conv3 = nn.Sequential(  # input shape (16, 104, 11)\n",
    "            nn.Conv2d(32, 64, (1,3), 1, (0,1)),  # output shape (32, 104, 11)\n",
    "            nn.ReLU(),  # activation\n",
    "            nn.MaxPool2d((1,4),(1,2), (0,0)),    # 在 2x2 空间里向下采样, output shape (16, 104, 11)\n",
    "        )\n",
    "        self.out = nn.Linear(64 * 209 * 2, 1)   # fully connected layer, output 10 classes\n",
    "\n",
    "    # def forward(self, x):\n",
    "    #     print(x.shape)\n",
    "    #     x = self.conv1(x)\n",
    "    #     print(x.shape)\n",
    "    #     x = self.conv2(x)\n",
    "    #     print(x.shape)\n",
    "    #     x = self.conv3(x)\n",
    "    #     print(x.shape)\n",
    "    #     x = x.view(x.size(0), -1)   # 展平多维的卷积图成 (batch_size, 32 * 7 * 7)\n",
    "    #     print(x.shape)\n",
    "    #     output = self.out(x)\n",
    "    #     print(output.shape)\n",
    "    #     return output,x\n",
    "    def forward(self, x):\n",
    "        # print(x.shape)\n",
    "        x = self.conv1(x)\n",
    "        # print(x.shape)\n",
    "        x = self.conv2(x)\n",
    "        # print(x.shape)\n",
    "        x = self.conv3(x)\n",
    "        # print(x.shape)\n",
    "        x = x.view(x.size(0), -1)   # 展平多维的卷积图成 (batch_size, 32 * 7 * 7)\n",
    "        # print(x.shape)\n",
    "        output = self.out(x)\n",
    "        # print(output.shape)\n",
    "        return output,x\n",
    "\n",
    "cnn = CNN()\n",
    "print(cnn)  # net architecture"
   ]
  },
  {
   "cell_type": "code",
   "execution_count": 76,
   "metadata": {
    "tags": []
   },
   "outputs": [
    {
     "output_type": "stream",
     "name": "stdout",
     "text": [
      "Epoch: 0 | metric: 0.98\n",
      "Epoch: 1 | metric: 2.66\n",
      "Epoch: 2 | metric: 2.62\n",
      "Epoch: 3 | metric: 2.61\n",
      "Epoch: 4 | metric: 2.60\n",
      "Epoch: 5 | metric: 2.59\n",
      "Epoch: 6 | metric: 2.58\n",
      "Epoch: 7 | metric: 2.58\n"
     ]
    }
   ],
   "source": [
    "# import torch\n",
    "# import torch.nn.functional as F\n",
    "# from sklearn.preprocessing import LabelEncoder\n",
    "import torch.utils.data as Data\n",
    "from sklearn.metrics import mean_squared_error\n",
    "# optimizer is a tool used for training\n",
    "optimizer  = torch.optim.Adam(cnn.parameters(), lr=0.005, betas=(0.9, 0.99))\n",
    "# when calculating errors, it is noted that the real value is not one-hot, but 1D tensor (batch,)\n",
    "# but the predicted value is 2D tensor (batch, n_ classes)\n",
    "loss_func = torch.nn.MSELoss()\n",
    "\n",
    "torch.manual_seed(1)    # reproducible\n",
    "BATCH_SIZE = 32      # number of batch training data\n",
    "# first, convert it into a dataset recognized by torch\n",
    "torch_dataset = Data.TensorDataset(train_data,train_value)\n",
    "# put the dataset into the dataloader\n",
    "loader = Data.DataLoader(\n",
    "    dataset=torch_dataset,      # torch TensorDataset format\n",
    "    batch_size=BATCH_SIZE,      # mini batch size\n",
    "    shuffle=False,               # do you want to scramble the data,yes\n",
    "    num_workers=2,              # multithreading to read data\n",
    ")\n",
    "\n",
    "for epoch in range(8):\n",
    "    for step,data in enumerate(loader):\n",
    "        batch_x,batch_y = data[0][:].type(torch.float), data[1][:].type(torch.float)\n",
    "        # if step == 0:\n",
    "        #     print(batch_x)\n",
    "        #     print(batch_y)\n",
    "        batch_x = batch_x[:, None, ...]\n",
    "        # print(type(batch_x))\n",
    "        # print(batch_y.shape)\n",
    "        out = cnn(batch_x)[0]     # feed net training data x, output analysis value\n",
    "        # print(batch_y.shape)\n",
    "\n",
    "        loss = loss_func(out, batch_y)     # calculate the error between the two\n",
    "        # print(loss)\n",
    "\n",
    "        optimizer.zero_grad()   # clear the residual update parameter value of the previous step\n",
    "        loss.backward()         # the error is back propagated and the updated values of parameters are calculated\n",
    "        optimizer.step()        # apply the parameter update value to the parameters of net\n",
    "        if epoch % 1 == 0 and step == 0:\n",
    "            # prediction = torch.max(out, 1)[1]\n",
    "            pred_y = out.data.numpy()[:,0]\n",
    "            target_y = batch_y.data.numpy()\n",
    "            # print(pred_y)\n",
    "            # print(target_y)\n",
    "            sum = 0\n",
    "            for i in range(BATCH_SIZE):\n",
    "                sum = sum + abs(((pred_y[i]-target_y[i])/target_y[i]))\n",
    "            metric = sum / BATCH_SIZE\n",
    "            # print(pred_y)\n",
    "            # print(target_y)\n",
    "            # mse = mean_squared_error(target_y, pred_y)\n",
    "            # # accuracy = float( (pred_y == target_y).astype(int).sum()) / float(target_y.size)\n",
    "            print('Epoch:',epoch,'| metric: %.2f' % metric)\n",
    "\n",
    "\n",
    "# torch.save(net.state_dict(), 'net_params.pkl')   # only save the parameters in the network (fast, less memory)\n",
    "\n",
    "# validation_net = torch.nn.Sequential(\n",
    "#     torch.nn.Linear(n_feature, 100),\n",
    "#     torch.nn.ReLU(),\n",
    "#     torch.nn.Linear(100, 100),\n",
    "#     torch.nn.ReLU(),\n",
    "#     torch.nn.Linear(100, 100),\n",
    "#     torch.nn.ReLU(),\n",
    "#     torch.nn.Linear(100, 100),\n",
    "#     torch.nn.ReLU(),\n",
    "#     torch.nn.Linear(100, 100),\n",
    "#     torch.nn.ReLU(),\n",
    "#     torch.nn.Linear(100, 1),\n",
    "# )\n",
    "# # copy saved parameters to predict_net\n",
    "# validation_net.load_state_dict(torch.load('net_params.pkl'),False)\n",
    "# prediction = validation_net(test_data_aft_stdsscsl)\n",
    "# prediction = torch.max(prediction, 1)[1]\n",
    "# pred_y = prediction.data.numpy()\n",
    "# target_y = test_label.data.numpy()\n",
    "# real_pred_y = le.inverse_transform(pred_y)\n",
    "# print(\"predicted label: \",real_pred_y)\n",
    "# accuracy = float((pred_y == target_y).astype(int).sum()) / float(target_y.size)\n",
    "# print(\"Accuracy on test set: \",accuracy*100,\"%\")\n",
    "# np.savetxt(\"predict_testlabel_with_adjlist.txt\",real_pred_y)"
   ]
  },
  {
   "cell_type": "code",
   "execution_count": 51,
   "metadata": {},
   "outputs": [
    {
     "output_type": "stream",
     "name": "stdout",
     "text": [
      "2.527834\n"
     ]
    }
   ],
   "source": [
    "print(target_y.mean())"
   ]
  },
  {
   "cell_type": "code",
   "execution_count": 52,
   "metadata": {},
   "outputs": [
    {
     "output_type": "stream",
     "name": "stdout",
     "text": [
      "[[0. 0. 0.]\n [0. 0. 0.]\n [0. 0. 0.]]\n[0. 2. 0.]\n"
     ]
    }
   ],
   "source": [
    "a = np.zeros((3,3))\n",
    "print(a)\n",
    "a[0][1] = 2\n",
    "print(a[0][0:3])"
   ]
  },
  {
   "cell_type": "code",
   "execution_count": null,
   "metadata": {},
   "outputs": [],
   "source": []
  }
 ]
}